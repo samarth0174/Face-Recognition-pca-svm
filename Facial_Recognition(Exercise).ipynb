{
  "nbformat": 4,
  "nbformat_minor": 0,
  "metadata": {
    "colab": {
      "name": "Facial_Recognition(Exercise).ipynb",
      "provenance": [],
      "collapsed_sections": [],
      "authorship_tag": "ABX9TyPYvApBl+x+UM5p+1sQDRu0",
      "include_colab_link": true
    },
    "kernelspec": {
      "name": "python3",
      "display_name": "Python 3"
    }
  },
  "cells": [
    {
      "cell_type": "markdown",
      "metadata": {
        "id": "view-in-github",
        "colab_type": "text"
      },
      "source": [
        "<a href=\"https://colab.research.google.com/github/samarth0174/Face-Recognition-pca-svm/blob/master/Facial_Recognition(Exercise).ipynb\" target=\"_parent\"><img src=\"https://colab.research.google.com/assets/colab-badge.svg\" alt=\"Open In Colab\"/></a>"
      ]
    },
    {
      "cell_type": "markdown",
      "metadata": {
        "id": "rvV8lh1Gwvv7",
        "colab_type": "text"
      },
      "source": [
        "# **In this project we implement the Identification system using Machine Learning concepts such as Principal Component Analysis (PCA) and Support Vector Machine (SVM).**\n",
        "## Steps Involved:\n",
        "- Importing Libraries\n",
        "- Loading the Dataset\n",
        "- Data Exploration\n",
        "- Splitting the dataset \n",
        "- Compute PCA(eigen faces) \n",
        "- Train a SVM classification model\n",
        "- * Using GridSearch to find best Parameters\n",
        "- Model Evaluation\n",
        "- Conclusion"
      ]
    },
    {
      "cell_type": "markdown",
      "metadata": {
        "id": "66mRLD_O8Xpa",
        "colab_type": "text"
      },
      "source": [
        "## **Importing Libraries**\n",
        "* We need to first import the scikit-learn library for using the PCA function API that is provided into this library.\n",
        "* The scikit-learn library also provided an API to fetch  **LFW_peoples dataset**. \n",
        "* We also required matplotlib to plot faces."
      ]
    },
    {
      "cell_type": "code",
      "metadata": {
        "id": "7vLPFIDn8fA-",
        "colab_type": "code",
        "colab": {}
      },
      "source": [
        "#downnlading datasets sklearn\n",
        "from sklearn.datasets import fetch_lfw_people\n",
        "\n",
        "#todo import other libraries such  sklearn for pca,svc,classification report,plotting"
      ],
      "execution_count": 0,
      "outputs": []
    },
    {
      "cell_type": "markdown",
      "metadata": {
        "id": "P9IRz5a29ox1",
        "colab_type": "text"
      },
      "source": [
        "## **Loading the dataset**"
      ]
    },
    {
      "cell_type": "code",
      "metadata": {
        "id": "dAW3Tvzu9jvi",
        "colab_type": "code",
        "colab": {
          "base_uri": "https://localhost:8080/",
          "height": 86
        },
        "outputId": "e09e8ba0-67c6-47a8-ee2e-e0f8c8f1ae44"
      },
      "source": [
        "# Download the data, if not already on disk and load it as numpy arrays\n",
        "lfw_people = fetch_lfw_people('data', min_faces_per_person=70, resize=0.4)"
      ],
      "execution_count": 2,
      "outputs": [
        {
          "output_type": "stream",
          "text": [
            "Downloading LFW metadata: https://ndownloader.figshare.com/files/5976012\n",
            "Downloading LFW metadata: https://ndownloader.figshare.com/files/5976009\n",
            "Downloading LFW metadata: https://ndownloader.figshare.com/files/5976006\n",
            "Downloading LFW data (~200MB): https://ndownloader.figshare.com/files/5976015\n"
          ],
          "name": "stderr"
        }
      ]
    },
    {
      "cell_type": "code",
      "metadata": {
        "id": "ALcSLOK-9x12",
        "colab_type": "code",
        "colab": {}
      },
      "source": [
        "# introspect the images arrays to find the shapes (for plotting)\n",
        "#todo:check shape"
      ],
      "execution_count": 0,
      "outputs": []
    },
    {
      "cell_type": "code",
      "metadata": {
        "id": "E4sf2Bvq96Ih",
        "colab_type": "code",
        "colab": {
          "base_uri": "https://localhost:8080/",
          "height": 34
        },
        "outputId": "2ef82994-75a2-4982-f3c8-7db1422848cf"
      },
      "source": [
        "# for machine learning we use the data directly (as relative pixel\n",
        "# position info is ignored by this model)\n",
        "'''todo:assign X for model'''\n",
        "\n",
        "## the label to predict is the id of the person \n",
        "'''Todo:assign y for model ie. the no. of classes''''"
      ],
      "execution_count": 3,
      "outputs": [
        {
          "output_type": "execute_result",
          "data": {
            "text/plain": [
              "''"
            ]
          },
          "metadata": {
            "tags": []
          },
          "execution_count": 3
        }
      ]
    },
    {
      "cell_type": "markdown",
      "metadata": {
        "id": "WXM5lpU5-nSX",
        "colab_type": "text"
      },
      "source": [
        "## **Data Exploration**"
      ]
    },
    {
      "cell_type": "code",
      "metadata": {
        "id": "dgszXSCf-EXS",
        "colab_type": "code",
        "colab": {}
      },
      "source": [
        "# plot and explore images and their respective classes\n",
        "# hint: use matplotlib"
      ],
      "execution_count": 0,
      "outputs": []
    },
    {
      "cell_type": "markdown",
      "metadata": {
        "id": "oYyU4nwe-6CN",
        "colab_type": "text"
      },
      "source": [
        "## **Splitting the dataset**"
      ]
    },
    {
      "cell_type": "code",
      "metadata": {
        "id": "sFrwNlYu-9Y4",
        "colab_type": "code",
        "colab": {}
      },
      "source": [
        "#use sklearn test-train split"
      ],
      "execution_count": 0,
      "outputs": []
    },
    {
      "cell_type": "markdown",
      "metadata": {
        "id": "2C6R1XgG_CuV",
        "colab_type": "text"
      },
      "source": [
        "## **Compute PCA**\n",
        "We can now compute a PCA (eigenfaces) on the face dataset (treated as unlabeled dataset): unsupervised feature extraction / dimensionality reduction."
      ]
    },
    {
      "cell_type": "code",
      "metadata": {
        "id": "xDzWJZcc_HG6",
        "colab_type": "code",
        "colab": {}
      },
      "source": [
        "#Apply the PCA algorithm on the training dataset which computes EigenFaces. \n",
        "#Here, take n_components = 150 or 300 means we extract the top 150 (or 300) Eigenfaces from the algorithm. \n",
        "#Also print the time taken to apply this algorithm.\n",
        "\n",
        "# TODO: Create an instance of PCA, initializing with n_components=n_components and whiten=True\n",
        "\n",
        "#TODO: pass the training dataset (X_train) to pca's 'fit()' method\n"
      ],
      "execution_count": 0,
      "outputs": []
    },
    {
      "cell_type": "markdown",
      "metadata": {
        "id": "KtO1GgA2_4E1",
        "colab_type": "text"
      },
      "source": [
        "## **Train a SVM classification model**\n",
        "Fit a SVM classifier to the training set.Use GridSearchCV to find a good set of parameters for the classifier."
      ]
    },
    {
      "cell_type": "code",
      "metadata": {
        "id": "VuuOQ2ORAA1T",
        "colab_type": "code",
        "colab": {}
      },
      "source": [
        "#todo : SVM with Gridsearch algo"
      ],
      "execution_count": 0,
      "outputs": []
    },
    {
      "cell_type": "markdown",
      "metadata": {
        "id": "rGocU66ZEw3_",
        "colab_type": "text"
      },
      "source": [
        "## **Evaluation of the model quality on the test set**"
      ]
    },
    {
      "cell_type": "code",
      "metadata": {
        "id": "Uo0FRAzpE0jD",
        "colab_type": "code",
        "colab": {}
      },
      "source": [
        "#TODO: Test the model and Generate a classification report"
      ],
      "execution_count": 0,
      "outputs": []
    },
    {
      "cell_type": "markdown",
      "metadata": {
        "id": "pF9hXnnqFGjD",
        "colab_type": "text"
      },
      "source": [
        "# **plot the eigen faces for your visualisation**"
      ]
    },
    {
      "cell_type": "code",
      "metadata": {
        "id": "mD4UWX49FNEi",
        "colab_type": "code",
        "colab": {}
      },
      "source": [
        "#TODO:plot most significant eigen faces"
      ],
      "execution_count": 0,
      "outputs": []
    },
    {
      "cell_type": "markdown",
      "metadata": {
        "id": "YQeKTNwoFR6A",
        "colab_type": "text"
      },
      "source": [
        "## **Conclusion**"
      ]
    },
    {
      "cell_type": "code",
      "metadata": {
        "id": "jND-czexFUhr",
        "colab_type": "code",
        "colab": {}
      },
      "source": [
        ""
      ],
      "execution_count": 0,
      "outputs": []
    }
  ]
}